{
  "cells": [
    {
      "cell_type": "code",
      "execution_count": null,
      "metadata": {
        "colab": {
          "base_uri": "https://localhost:8080/"
        },
        "id": "IeWsfNqikGh8",
        "outputId": "76bd4ccd-3c13-4ee5-d0a0-555012373994"
      },
      "outputs": [
        {
          "output_type": "stream",
          "name": "stdout",
          "text": [
            "Mounted at /content/drive\n"
          ]
        }
      ],
      "source": [
        "from google.colab import drive\n",
        "drive.mount('/content/drive')"
      ]
    },
    {
      "cell_type": "markdown",
      "metadata": {
        "id": "yTWomfEpX6dS"
      },
      "source": [
        "# Bước 1: Import Modules"
      ]
    },
    {
      "cell_type": "code",
      "execution_count": null,
      "metadata": {
        "id": "ok2BrtLZAItY"
      },
      "outputs": [],
      "source": [
        "import matplotlib.pyplot as plt\n",
        "import pandas as pd\n",
        "import numpy as np\n",
        "import tensorflow as tf"
      ]
    },
    {
      "cell_type": "code",
      "source": [
        "#THAY ĐỔI ĐƯỜNG DẪN ĐẾN FILE MÀ MÌNH CHIA SẺ CHO MỌI NGƯỜI\n",
        "WORKING_DIR=\"/content/drive/MyDrive/\""
      ],
      "metadata": {
        "id": "N8ewJKonYXMB"
      },
      "execution_count": null,
      "outputs": []
    },
    {
      "cell_type": "code",
      "source": [
        "train_data = pd.read_csv(\"/content/drive/MyDrive/ĐỒ ÁN /DATA/FULL/full_TRAIN.csv\")\n",
        "eval_data = pd.read_csv(\"/content/drive/MyDrive/ĐỒ ÁN /DATA/FULL/full_DEV.csv\")\n",
        "test_data=pd.read_csv(\"/content/drive/MyDrive/ĐỒ ÁN /DATA/FULL/full_TEST.csv\")"
      ],
      "metadata": {
        "id": "8AVn2ZMxYbyD"
      },
      "execution_count": null,
      "outputs": []
    },
    {
      "cell_type": "code",
      "source": [
        "eval_data['sentence_id'].replace(range(1094), range(7712,8806), inplace=True)"
      ],
      "metadata": {
        "id": "Nc5Wh40yhBNt"
      },
      "execution_count": null,
      "outputs": []
    },
    {
      "cell_type": "code",
      "source": [
        "test_data['sentence_id'].replace(range(2201), range(8806,11007), inplace=True)"
      ],
      "metadata": {
        "id": "0OV_TNR_ecTU"
      },
      "execution_count": null,
      "outputs": []
    },
    {
      "cell_type": "markdown",
      "metadata": {
        "id": "i_4kHUK_YS4q"
      },
      "source": [
        "# Bước 2: Load bộ dữ liệu NER\n",
        "\n",
        "Sau khi đọc tập dữ liệu, chúng ta quan sát thử 50 dòng đầu tiên như thế nào.\n"
      ]
    },
    {
      "cell_type": "markdown",
      "metadata": {
        "id": "Hvc2uwATZm8f"
      },
      "source": [
        "#Visualizing\n",
        "Thông kê bộ dữ liệu:\n",
        "- Số lượng từ duy nhất trong kho ngữ liệu. (Tập từ vựng, số chiều)\n",
        "- Số lượng thẻ duy nhất trong tập dữ liệu. (Tập nhãn)\n",
        "\n",
        "\n",
        "Bằng cách sử dụng hàm **“nunique”.**"
      ]
    },
    {
      "cell_type": "code",
      "source": [
        "data=pd.concat([train_data,eval_data,test_data])"
      ],
      "metadata": {
        "id": "VvGBIqsEavui"
      },
      "execution_count": null,
      "outputs": []
    },
    {
      "cell_type": "code",
      "execution_count": null,
      "metadata": {
        "colab": {
          "base_uri": "https://localhost:8080/"
        },
        "id": "foji0Z5-DACL",
        "outputId": "f32419de-fa67-4314-824d-d434235306cb"
      },
      "outputs": [
        {
          "output_type": "stream",
          "name": "stdout",
          "text": [
            "Unique words in corpus: 11322\n",
            "Unique tags in corpus: 61\n"
          ]
        }
      ],
      "source": [
        "print(\"Unique words in corpus:\", data['words'].nunique())\n",
        "print(\"Unique tags in corpus:\", data['labels'].nunique())"
      ]
    },
    {
      "cell_type": "markdown",
      "metadata": {
        "id": "9Ih-dU2ibjC5"
      },
      "source": [
        "Tạo một danh sách và sử dụng phương thức set() để lấy các giá trị trong cột “word” và loại bỏ giá trị trùng.\\\n",
        "Thêm phần đệm có tên “Endpad”.\n"
      ]
    },
    {
      "cell_type": "code",
      "execution_count": null,
      "metadata": {
        "id": "9QdG8q_xD2MR"
      },
      "outputs": [],
      "source": [
        "#tạo tập từ vựng\n",
        "words = list(set(data[\"words\"].values))\n",
        "words.append(\"ENDPAD\")\n",
        "num_words = len(words)"
      ]
    },
    {
      "cell_type": "code",
      "execution_count": null,
      "metadata": {
        "id": "STf-MXyND2Po"
      },
      "outputs": [],
      "source": [
        "#tạo tập nhãn tương tự như trên\n",
        "tags = list(set(data[\"labels\"].values))\n",
        "tags.append(\"ENDPAD\")\n",
        "num_tags = len(tags)"
      ]
    },
    {
      "cell_type": "markdown",
      "metadata": {
        "id": "YjkABYEfcm9S"
      },
      "source": [
        "# Bước 3: Lấy các câu và các thẻ tương ứng"
      ]
    },
    {
      "cell_type": "code",
      "execution_count": null,
      "metadata": {
        "id": "RSbYX604EZ7v"
      },
      "outputs": [],
      "source": [
        "import pandas as pd\n",
        "# Tạo mảng chứa nhiều mảng con\n",
        "grouped = data.groupby('sentence_id')\n",
        "\n",
        "output = []\n",
        "for _, group in grouped:\n",
        "    tuples = list(zip(group['words'], group['labels']))\n",
        "    output.append(tuples)\n",
        "\n"
      ]
    },
    {
      "cell_type": "markdown",
      "metadata": {
        "id": "XojZjemOdEOC"
      },
      "source": [
        "# Bước 4: Ánh xạ giữa các câu và chỉ mục\n",
        "Chúng ta có thể thấy rằng mỗi từ được gán cho một thẻ duy nhất. Chúng tôi có thể truy xuất những từ này bằng cách sử dụng các chỉ số của chúng và tra cứu chúng trong từ điển và trả về các khóa tương ứng.\n"
      ]
    },
    {
      "cell_type": "code",
      "execution_count": null,
      "metadata": {
        "id": "KzmuYP_CEZ-l"
      },
      "outputs": [],
      "source": [
        "word2idx = {w: i   for i, w in enumerate(words)}\n",
        "tag2idx = {t: i for i, t in enumerate(tags)}"
      ]
    },
    {
      "cell_type": "code",
      "execution_count": null,
      "metadata": {
        "colab": {
          "base_uri": "https://localhost:8080/"
        },
        "id": "dQY8s4cKEvnw",
        "outputId": "b02e4d5f-90e4-4a5f-d517-14cd652d5975"
      },
      "outputs": [
        {
          "output_type": "stream",
          "name": "stdout",
          "text": [
            "11323\n",
            "{'O': 0, 'I-SCREEN-NEGATIVE': 1, 'I-GENERAL-NEGATIVE': 2, 'B-BATTERY-NEUTRAL': 3, 'I-PRICE-NEGATIVE': 4, 'B-GENERAL-NEUTRAL': 5, 'B-DESIGN-NEUTRAL': 6, 'I-DESIGN-NEUTRAL': 7, 'B-STORAGE-NEUTRAL': 8, 'I-STORAGE-NEGATIVE': 9, 'I-FEATURES-NEUTRAL': 10, 'I-STORAGE-NEUTRAL': 11, 'I-PERFORMANCE-NEGATIVE': 12, 'I-BATTERY-NEGATIVE': 13, 'B-DESIGN-NEGATIVE': 14, 'B-PRICE-POSITIVE': 15, 'I-PRICE-POSITIVE': 16, 'B-BATTERY-NEGATIVE': 17, 'B-DESIGN-POSITIVE': 18, 'B-SCREEN-POSITIVE': 19, 'B-SER&ACC-NEUTRAL': 20, 'B-CAMERA-POSITIVE': 21, 'I-FEATURES-NEGATIVE': 22, 'B-FEATURES-NEUTRAL': 23, 'I-SER&ACC-NEGATIVE': 24, 'B-BATTERY-POSITIVE': 25, 'I-GENERAL-POSITIVE': 26, 'B-GENERAL-NEGATIVE': 27, 'I-SCREEN-NEUTRAL': 28, 'I-CAMERA-POSITIVE': 29, 'B-PERFORMANCE-POSITIVE': 30, 'B-GENERAL-POSITIVE': 31, 'B-SER&ACC-NEGATIVE': 32, 'I-DESIGN-POSITIVE': 33, 'B-STORAGE-NEGATIVE': 34, 'I-CAMERA-NEGATIVE': 35, 'I-BATTERY-POSITIVE': 36, 'I-CAMERA-NEUTRAL': 37, 'B-PERFORMANCE-NEGATIVE': 38, 'B-STORAGE-POSITIVE': 39, 'I-DESIGN-NEGATIVE': 40, 'B-CAMERA-NEUTRAL': 41, 'I-SCREEN-POSITIVE': 42, 'B-SER&ACC-POSITIVE': 43, 'I-PERFORMANCE-POSITIVE': 44, 'B-PRICE-NEUTRAL': 45, 'B-PRICE-NEGATIVE': 46, 'I-PERFORMANCE-NEUTRAL': 47, 'I-BATTERY-NEUTRAL': 48, 'B-PERFORMANCE-NEUTRAL': 49, 'B-FEATURES-NEGATIVE': 50, 'B-SCREEN-NEGATIVE': 51, 'I-SER&ACC-POSITIVE': 52, 'B-FEATURES-POSITIVE': 53, 'I-PRICE-NEUTRAL': 54, 'I-SER&ACC-NEUTRAL': 55, 'B-SCREEN-NEUTRAL': 56, 'B-CAMERA-NEGATIVE': 57, 'I-FEATURES-POSITIVE': 58, 'I-STORAGE-POSITIVE': 59, 'I-GENERAL-NEUTRAL': 60, 'ENDPAD': 61}\n"
          ]
        }
      ],
      "source": [
        "# word2idx\n",
        "print(word2idx[\"ENDPAD\"])\n",
        "print(tag2idx)\n"
      ]
    },
    {
      "cell_type": "markdown",
      "metadata": {
        "id": "M4jHHTiNeHQD"
      },
      "source": [
        "#Bước 5: Padding  đầu vào và cắt dữ liệu thành tập Train/Test\\\n"
      ]
    },
    {
      "cell_type": "code",
      "source": [
        "sentences=output"
      ],
      "metadata": {
        "id": "SF8VYpnac0Mr"
      },
      "execution_count": null,
      "outputs": []
    },
    {
      "cell_type": "code",
      "execution_count": null,
      "metadata": {
        "colab": {
          "base_uri": "https://localhost:8080/",
          "height": 481
        },
        "id": "QsaS9yuIEvqA",
        "outputId": "06792614-55fa-4bd5-b444-99a1412d186e"
      },
      "outputs": [
        {
          "output_type": "display_data",
          "data": {
            "text/plain": [
              "<Figure size 640x480 with 1 Axes>"
            ],
            "image/png": "[encoded data removed]"
          },
          "metadata": {}
        }
      ],
      "source": [
        "import matplotlib.pyplot as plt\n",
        "import seaborn as sns\n",
        "\n",
        "# Setup style của matplotlib dưới dạng seaborn\n",
        "\n",
        "sns.set()\n",
        "plt.hist([len(s) for s in sentences], bins = 50, color=\"red\")\n",
        "# Khai báo tiêu đề cho trục x\n",
        "plt.xlabel('độ dài')\n",
        "# Khai báo tiêu đề cho trục y\n",
        "plt.ylabel('tần suất')\n",
        "# Title\n",
        "plt.title('Tần suất độ dài của câu')\n",
        "plt.show()"
      ]
    },
    {
      "cell_type": "markdown",
      "metadata": {
        "id": "45olb3GgimLa"
      },
      "source": [
        "- Sử dụng hàm pad_sequence() cho padding\n",
        "- X sẽ là một đại diện bằng số cho các từ. (sử dụng word2idx)\n",
        "- ‘Post’ chỉ là một giá trị của đối số đệm ở cuối câu.\n",
        "- X,y là vector"
      ]
    },
    {
      "cell_type": "code",
      "execution_count": null,
      "metadata": {
        "colab": {
          "base_uri": "https://localhost:8080/"
        },
        "id": "MdhMd7c8Evrg",
        "outputId": "02d23637-c478-41f2-cf6d-2f968e261846"
      },
      "outputs": [
        {
          "output_type": "stream",
          "name": "stdout",
          "text": [
            "Maximum sequence length: 120\n"
          ]
        }
      ],
      "source": [
        "#ánh xạ từ trong câu và nhãn về index của nó\n",
        "from tensorflow.keras.preprocessing.sequence import pad_sequences\n",
        "#đặt max length cho phù hợp\n",
        "max_len = maxlen = max([len(s) for s in sentences])\n",
        "print ('Maximum sequence length:', maxlen)\n",
        "\n",
        "X = [[word2idx[w[0]] for w in s] for s in sentences]\n",
        "X = pad_sequences(maxlen=max_len, sequences=X, padding=\"post\", value=num_words-1)\n",
        "\n",
        "#tương tự với nhãn\n",
        "y = [[tag2idx[w[1]] for w in s] for s in sentences ]\n",
        "y = pad_sequences(maxlen=max_len, sequences=y, padding=\"post\", value=num_tags-1)\n",
        "\n"
      ]
    },
    {
      "cell_type": "code",
      "execution_count": null,
      "metadata": {
        "id": "pTZXbacIEvth"
      },
      "outputs": [],
      "source": [
        "from sklearn.model_selection import train_test_split\n",
        "x_train=X[0:7712]\n",
        "y_train=y[0:7712]\n",
        "x_val=X[7712:8806]\n",
        "y_val=y[7712:8806]\n",
        "x_test=X[8806:]\n",
        "y_test=y[8806:]"
      ]
    },
    {
      "cell_type": "markdown",
      "metadata": {
        "id": "4BX80iq9kHhf"
      },
      "source": [
        "# Bước 6: Xây dựng Mô hình BiLSTM\n"
      ]
    },
    {
      "cell_type": "code",
      "execution_count": null,
      "metadata": {
        "id": "XfT0mUF3F20e"
      },
      "outputs": [],
      "source": [
        "from tensorflow.keras.models import Sequential\n",
        "from tensorflow.keras import Model, Input\n",
        "from tensorflow.keras.layers import LSTM, Embedding, Dense, Bidirectional\n",
        "from tensorflow.keras.layers import TimeDistributed, SpatialDropout1D, Dropout, AveragePooling1D"
      ]
    },
    {
      "cell_type": "markdown",
      "metadata": {
        "id": "woxrXbQKlTdR"
      },
      "source": [
        "Bản tóm tắt cho thấy rằng chúng ta có hơn 3,7 triệu tham số cần được huấn luyện."
      ]
    },
    {
      "cell_type": "code",
      "execution_count": null,
      "metadata": {
        "colab": {
          "base_uri": "https://localhost:8080/"
        },
        "id": "Lr4UtVstEvuz",
        "outputId": "992099bd-2e5b-4461-cffd-de1b6c1e6463"
      },
      "outputs": [
        {
          "output_type": "stream",
          "name": "stderr",
          "text": [
            "WARNING:tensorflow:Layer lstm_1 will not use cuDNN kernels since it doesn't meet the criteria. It will use a generic GPU kernel as fallback when running on GPU.\n",
            "WARNING:tensorflow:Layer lstm_1 will not use cuDNN kernels since it doesn't meet the criteria. It will use a generic GPU kernel as fallback when running on GPU.\n",
            "WARNING:tensorflow:Layer lstm_1 will not use cuDNN kernels since it doesn't meet the criteria. It will use a generic GPU kernel as fallback when running on GPU.\n"
          ]
        },
        {
          "output_type": "stream",
          "name": "stdout",
          "text": [
            "Model: \"model_1\"\n",
            "_________________________________________________________________\n",
            " Layer (type)                Output Shape              Param #   \n",
            "=================================================================\n",
            " input_2 (InputLayer)        [(None, 120)]             0         \n",
            "                                                                 \n",
            " embedding_1 (Embedding)     (None, 120, 120)          1358880   \n",
            "                                                                 \n",
            " bidirectional_1 (Bidirectio  (None, 120, 240)         231360    \n",
            " nal)                                                            \n",
            "                                                                 \n",
            " time_distributed_1 (TimeDis  (None, 120, 62)          14942     \n",
            " tributed)                                                       \n",
            "                                                                 \n",
            "=================================================================\n",
            "Total params: 1,605,182\n",
            "Trainable params: 1,605,182\n",
            "Non-trainable params: 0\n",
            "_________________________________________________________________\n"
          ]
        }
      ],
      "source": [
        "model = Sequential() #Yêu cầu khỏi tạo mạng BiLSTM\n",
        "#Input\n",
        "input = Input(shape=(120,))\n",
        "#Embedding\n",
        "model = Embedding(input_dim=num_words, output_dim=120, input_length=120)(input)\n",
        "#BiLSTM\n",
        "model = Bidirectional(LSTM(units=120, return_sequences=True, recurrent_dropout=0.1))(model)\n",
        "#TimeDistributed\n",
        "out = TimeDistributed(Dense(62, activation=\"softmax\"))(model)  # softmax output layer\n",
        "model = Model(input, out)\n",
        "\n",
        "model.summary()\n",
        "\n"
      ]
    },
    {
      "cell_type": "markdown",
      "metadata": {
        "id": "3Fw5QXjJlyAy"
      },
      "source": [
        "- Sử dụng trình tối ưu hoá \"adam\"\n",
        "- sparce_categorical_crossentropy làm hàm mất mát\n",
        "- Ma trận mà chúng ta sẽ quan tâm là ma trận độ chính xác."
      ]
    },
    {
      "cell_type": "code",
      "execution_count": null,
      "metadata": {
        "id": "I5qKoUzREvwr"
      },
      "outputs": [],
      "source": [
        "from tensorflow.keras.optimizers import Adam\n",
        "\n",
        "learning_rate = 1e-4  # Giá trị learning rate mong muốn\n",
        "\n",
        "optimizer = Adam(learning_rate=learning_rate)\n",
        "\n",
        "model.compile(\n",
        "    optimizer=optimizer,\n",
        "    loss=\"sparse_categorical_crossentropy\",\n",
        "    metrics=[\"accuracy\"]\n",
        ")"
      ]
    },
    {
      "cell_type": "markdown",
      "metadata": {
        "id": "Dc_jElQlmtEP"
      },
      "source": [
        "#Bước7: Huấn luyện Model"
      ]
    },
    {
      "cell_type": "markdown",
      "metadata": {
        "id": "xmPTE4emnSJ8"
      },
      "source": [
        "- Để bắt đầu huấn luyện là gọi model.fit ()\n",
        "- Có thể tăng kích thước batch_size nếu bạn có GPU có kích thước bộ nhớ lớn.\n",
        "\n"
      ]
    },
    {
      "cell_type": "code",
      "execution_count": null,
      "metadata": {
        "colab": {
          "base_uri": "https://localhost:8080/"
        },
        "id": "wNg5eaGsGLX7",
        "outputId": "6ccacbdc-8fd1-4bd0-cc7c-9c5def30a0ad"
      },
      "outputs": [
        {
          "output_type": "stream",
          "name": "stdout",
          "text": [
            "Epoch 1/10\n",
            "121/121 [==============================] - 139s 1s/step - loss: 2.4739 - accuracy: 0.6533 - val_loss: 1.1990 - val_accuracy: 0.7226\n",
            "Epoch 2/10\n",
            "121/121 [==============================] - 119s 984ms/step - loss: 1.0881 - accuracy: 0.7686 - val_loss: 1.0132 - val_accuracy: 0.7614\n",
            "Epoch 3/10\n",
            "121/121 [==============================] - 115s 943ms/step - loss: 0.9886 - accuracy: 0.7701 - val_loss: 0.9644 - val_accuracy: 0.7673\n",
            "Epoch 4/10\n",
            "121/121 [==============================] - 114s 944ms/step - loss: 0.9573 - accuracy: 0.7730 - val_loss: 0.9423 - val_accuracy: 0.7719\n",
            "Epoch 5/10\n",
            "121/121 [==============================] - 112s 928ms/step - loss: 0.9392 - accuracy: 0.7759 - val_loss: 0.9275 - val_accuracy: 0.7751\n",
            "Epoch 6/10\n",
            "121/121 [==============================] - 110s 909ms/step - loss: 0.9254 - accuracy: 0.7780 - val_loss: 0.9159 - val_accuracy: 0.7766\n",
            "Epoch 7/10\n",
            "121/121 [==============================] - 111s 921ms/step - loss: 0.9130 - accuracy: 0.7792 - val_loss: 0.9049 - val_accuracy: 0.7776\n",
            "Epoch 8/10\n",
            "121/121 [==============================] - 110s 910ms/step - loss: 0.9000 - accuracy: 0.7804 - val_loss: 0.8935 - val_accuracy: 0.7796\n",
            "Epoch 9/10\n",
            "121/121 [==============================] - 111s 921ms/step - loss: 0.8857 - accuracy: 0.7812 - val_loss: 0.8817 - val_accuracy: 0.7796\n",
            "Epoch 10/10\n",
            "121/121 [==============================] - 113s 928ms/step - loss: 0.8700 - accuracy: 0.7819 - val_loss: 0.8668 - val_accuracy: 0.7811\n",
            "[1168.8702664375305] Completed!\n"
          ]
        }
      ],
      "source": [
        "from tensorflow.keras.callbacks import ModelCheckpoint\n",
        "import time\n",
        "import os\n",
        "start_time = time.time()\n",
        "checkpoint_path = \"/content/drive/MyDrive/cs338-lstm/lại/full\"\n",
        "checkpoint = ModelCheckpoint(checkpoint_path, monitor='val_accuracy', save_weights_only=True, mode='max')\n",
        "history = model.fit(\n",
        "    x=x_train,\n",
        "    y=y_train,\n",
        "    validation_data=(x_test,y_test),\n",
        "    #validation_spl,\n",
        "    batch_size=64,\n",
        "    epochs=10,\n",
        "    verbose=1,\n",
        "    callbacks=[checkpoint]\n",
        ")\n",
        "print(\"[{}] Completed!\".format(time.time() - start_time))"
      ]
    },
    {
      "cell_type": "code",
      "source": [
        "loss=history.history['loss']\n",
        "val_loss=history.history['val_loss']\n"
      ],
      "metadata": {
        "id": "4o5UOt7Jiz5g"
      },
      "execution_count": null,
      "outputs": []
    },
    {
      "cell_type": "code",
      "source": [
        "plt.plot(history.history['loss'],c='b',label='train accuracy')\n",
        "plt.plot(history.history['val_loss'],label='validation accuracy')\n",
        "plt.legend(loc='lower right')\n",
        "plt.show()"
      ],
      "metadata": {
        "colab": {
          "base_uri": "https://localhost:8080/",
          "height": 434
        },
        "id": "oV9oVA4W5Ou2",
        "outputId": "349c7049-262f-470a-caca-6824985e07af"
      },
      "execution_count": null,
      "outputs": [
        {
          "output_type": "display_data",
          "data": {
            "text/plain": [
              "<Figure size 640x480 with 1 Axes>"
            ],
            "image/png": "[encoded data removed]"
          },
          "metadata": {}
        }
      ]
    },
    {
      "cell_type": "markdown",
      "metadata": {
        "id": "S4VxiMpqoMF5"
      },
      "source": [
        "# Bước8: Đánh giá mô hình NER\n",
        "\n"
      ]
    },
    {
      "cell_type": "code",
      "execution_count": null,
      "metadata": {
        "colab": {
          "base_uri": "https://localhost:8080/"
        },
        "id": "TWk9eXUKoHXg",
        "outputId": "2fdb89d1-7807-4e42-ed8e-f70dde3152e5"
      },
      "outputs": [
        {
          "output_type": "stream",
          "name": "stdout",
          "text": [
            "69/69 [==============================] - 6s 85ms/step - loss: 0.8668 - accuracy: 0.7811\n"
          ]
        },
        {
          "output_type": "execute_result",
          "data": {
            "text/plain": [
              "[0.866828978061676, 0.781144917011261]"
            ]
          },
          "metadata": {},
          "execution_count": 40
        }
      ],
      "source": [
        "model.evaluate(x_test, y_test)"
      ]
    },
    {
      "cell_type": "code",
      "execution_count": null,
      "metadata": {
        "colab": {
          "base_uri": "https://localhost:8080/"
        },
        "id": "2t99t4JdUETC",
        "outputId": "1b26ce62-8437-4d07-91c5-2a919958e7f3"
      },
      "outputs": [
        {
          "output_type": "stream",
          "name": "stdout",
          "text": [
            "69/69 [==============================] - 5s 65ms/step\n"
          ]
        }
      ],
      "source": [
        "y_pred = np.argmax(model.predict(x_test), axis=-1)"
      ]
    },
    {
      "cell_type": "code",
      "execution_count": null,
      "metadata": {
        "colab": {
          "base_uri": "https://localhost:8080/"
        },
        "id": "_5aNXwwjUG8H",
        "outputId": "612990cc-221c-492c-d45e-207e27554df2"
      },
      "outputs": [
        {
          "output_type": "execute_result",
          "data": {
            "text/plain": [
              "0.7811449341208542"
            ]
          },
          "metadata": {},
          "execution_count": 42
        }
      ],
      "source": [
        "from sklearn.metrics import f1_score\n",
        "f1_score(y_test.reshape(-1), y_pred.reshape(-1), average = 'micro')"
      ]
    },
    {
      "cell_type": "code",
      "execution_count": null,
      "metadata": {
        "colab": {
          "base_uri": "https://localhost:8080/"
        },
        "id": "9lVGZvyCUIK_",
        "outputId": "065b92c9-8f79-4a21-8292-1842edf3f23f"
      },
      "outputs": [
        {
          "output_type": "execute_result",
          "data": {
            "text/plain": [
              "0.02477985473923776"
            ]
          },
          "metadata": {},
          "execution_count": 43
        }
      ],
      "source": [
        "from sklearn.metrics import f1_score\n",
        "f1_score(y_test.reshape(-1), y_pred.reshape(-1), average = 'macro')"
      ]
    },
    {
      "cell_type": "code",
      "source": [
        "from sklearn.metrics import classification_report\n",
        "print(classification_report(y_test.reshape(-1), y_pred.reshape(-1),digits=6))"
      ],
      "metadata": {
        "colab": {
          "base_uri": "https://localhost:8080/"
        },
        "id": "PNqKV06Y48hU",
        "outputId": "3a28265f-d279-4c88-c96d-0343a973d0fe"
      },
      "execution_count": null,
      "outputs": [
        {
          "output_type": "stream",
          "name": "stdout",
          "text": [
            "              precision    recall  f1-score   support\n",
            "\n",
            "           0   0.352000  0.979178  0.517843     30929\n",
            "           1   0.000000  0.000000  0.000000       864\n",
            "           2   0.000000  0.000000  0.000000      1502\n",
            "           3   0.000000  0.000000  0.000000        69\n",
            "           4   0.000000  0.000000  0.000000       458\n",
            "           5   0.000000  0.000000  0.000000        63\n",
            "           6   0.000000  0.000000  0.000000        15\n",
            "           7   0.000000  0.000000  0.000000       150\n",
            "           8   0.000000  0.000000  0.000000         7\n",
            "           9   0.000000  0.000000  0.000000       128\n",
            "          10   0.000000  0.000000  0.000000       323\n",
            "          11   0.000000  0.000000  0.000000        18\n",
            "          12   0.000000  0.000000  0.000000      5803\n",
            "          13   0.000000  0.000000  0.000000      4039\n",
            "          14   0.000000  0.000000  0.000000        95\n",
            "          15   0.000000  0.000000  0.000000       122\n",
            "          16   0.000000  0.000000  0.000000       546\n",
            "          17   0.000000  0.000000  0.000000       392\n",
            "          18   0.000000  0.000000  0.000000       293\n",
            "          19   0.000000  0.000000  0.000000       161\n",
            "          20   0.000000  0.000000  0.000000         3\n",
            "          21   0.000000  0.000000  0.000000       347\n",
            "          22   0.000000  0.000000  0.000000      6086\n",
            "          23   0.000000  0.000000  0.000000        30\n",
            "          24   0.000000  0.000000  0.000000      1348\n",
            "          25   0.000000  0.000000  0.000000       627\n",
            "          26   0.183486  0.006545  0.012638      6112\n",
            "          27   0.000000  0.000000  0.000000       256\n",
            "          28   0.000000  0.000000  0.000000        78\n",
            "          29   0.000000  0.000000  0.000000      1662\n",
            "          30   0.000000  0.000000  0.000000       759\n",
            "          31   0.000000  0.000000  0.000000      1282\n",
            "          32   0.000000  0.000000  0.000000        99\n",
            "          33   0.000000  0.000000  0.000000      1398\n",
            "          34   0.000000  0.000000  0.000000        12\n",
            "          35   0.000000  0.000000  0.000000      1430\n",
            "          36   0.000000  0.000000  0.000000      3581\n",
            "          37   0.000000  0.000000  0.000000       593\n",
            "          38   0.000000  0.000000  0.000000       512\n",
            "          39   0.000000  0.000000  0.000000        12\n",
            "          40   0.000000  0.000000  0.000000       859\n",
            "          41   0.000000  0.000000  0.000000        70\n",
            "          42   0.000000  0.000000  0.000000       813\n",
            "          43   0.000000  0.000000  0.000000       413\n",
            "          44   0.409091  0.005603  0.011054      4819\n",
            "          45   0.000000  0.000000  0.000000        62\n",
            "          46   0.000000  0.000000  0.000000        71\n",
            "          47   0.000000  0.000000  0.000000       991\n",
            "          48   0.000000  0.000000  0.000000       762\n",
            "          49   0.000000  0.000000  0.000000        76\n",
            "          50   0.000000  0.000000  0.000000       522\n",
            "          51   0.000000  0.000000  0.000000       102\n",
            "          52   0.000000  0.000000  0.000000      4045\n",
            "          53   0.000000  0.000000  0.000000       246\n",
            "          54   0.000000  0.000000  0.000000       202\n",
            "          55   0.000000  0.000000  0.000000        32\n",
            "          56   0.000000  0.000000  0.000000         9\n",
            "          57   0.000000  0.000000  0.000000       179\n",
            "          58   0.000000  0.000000  0.000000      1328\n",
            "          59   0.000000  0.000000  0.000000        83\n",
            "          60   0.000000  0.000000  0.000000       268\n",
            "          61   0.989685  1.000000  0.994816    175964\n",
            "\n",
            "    accuracy                       0.781145    264120\n",
            "   macro avg   0.031198  0.032118  0.024780    264120\n",
            "weighted avg   0.712285  0.781145  0.723908    264120\n",
            "\n"
          ]
        },
        {
          "output_type": "stream",
          "name": "stderr",
          "text": [
            "/usr/local/lib/python3.10/dist-packages/sklearn/metrics/_classification.py:1344: UndefinedMetricWarning: Precision and F-score are ill-defined and being set to 0.0 in labels with no predicted samples. Use `zero_division` parameter to control this behavior.\n",
            "  _warn_prf(average, modifier, msg_start, len(result))\n",
            "/usr/local/lib/python3.10/dist-packages/sklearn/metrics/_classification.py:1344: UndefinedMetricWarning: Precision and F-score are ill-defined and being set to 0.0 in labels with no predicted samples. Use `zero_division` parameter to control this behavior.\n",
            "  _warn_prf(average, modifier, msg_start, len(result))\n",
            "/usr/local/lib/python3.10/dist-packages/sklearn/metrics/_classification.py:1344: UndefinedMetricWarning: Precision and F-score are ill-defined and being set to 0.0 in labels with no predicted samples. Use `zero_division` parameter to control this behavior.\n",
            "  _warn_prf(average, modifier, msg_start, len(result))\n"
          ]
        }
      ]
    },
    {
      "cell_type": "markdown",
      "metadata": {
        "id": "j--OVsRnocbZ"
      },
      "source": [
        "- Dự đoán"
      ]
    },
    {
      "cell_type": "code",
      "execution_count": null,
      "metadata": {
        "id": "rb9DEgbcGLbL"
      },
      "outputs": [],
      "source": [
        "# i = np.random.randint(0, x_test.shape[0]) #659\n",
        "print(x_test[2000])\n",
        "i =30\n",
        "p = model.predict(np.array([x_test[i]]))\n",
        "\n",
        "p = np.argmax(p, axis=-1)\n",
        "y_true = y_test[i]\n",
        "print(\"{:15}{:5}\\t {}\\n\".format(\"Word\", \"True\", \"Pred\"))\n",
        "print(\"-\" *30)\n",
        "for w, true, pred in zip(x_test[i], y_true, p[0]):\n",
        "    print(\"{:15}{}\\t{}\".format(words[w], tags[true], tags[pred]))\n",
        "    #print(w)"
      ]
    },
    {
      "cell_type": "markdown",
      "metadata": {
        "id": "TYE4_FZFv2MY"
      },
      "source": []
    },
    {
      "cell_type": "code",
      "source": [
        "from keras.preprocessing.text import Tokenizer"
      ],
      "metadata": {
        "id": "3SNYVwh96k94"
      },
      "execution_count": null,
      "outputs": []
    },
    {
      "cell_type": "code",
      "source": [
        "from tensorflow.keras.preprocessing.sequence import pad_sequences\n",
        "\n",
        "# Câu đầu vào\n",
        "sentence = \"sp ổn, tốt, mẫu mã đẹp, nói chung hài lòng\"\n",
        "# Xử lý câu\n",
        "\n",
        "# Chuyển đổi câu thành sequence sử dụng tokenizer\n",
        "input_sequence = []\n",
        "for word in sentence.split():\n",
        "    if word in words:\n",
        "        input_sequence.append(words.index(word))\n",
        "    else:\n",
        "        input_sequence.append(0)\n",
        "\n",
        "input_sequence = [input_sequence]\n",
        "\n",
        "# Độ dài tối đa đã được huấn luyện\n",
        "max_len = 120\n",
        "\n",
        "# Padding sequence\n",
        "padded_sequence = pad_sequences(input_sequence, maxlen=max_len)\n",
        "print(padded_sequence)\n",
        "# Dự đoán trên mô hình\n",
        "p = model.predict(padded_sequence)\n",
        "\n",
        "# Xem kết quả dự đoán\n",
        "p = np.argmax(p, axis=-1)\n",
        "print(\"{:15}\\t {}\\n\".format(\"Word\", \"Pred\"))\n",
        "print(\"-\" *30)\n",
        "for w, pred in zip(input_sequence[0], p[0]):\n",
        "    print(\"{:15}\\t{}\".format(words[w], tags[pred]))\n",
        "    print(w)"
      ],
      "metadata": {
        "id": "HuNiMTMX8gb5"
      },
      "execution_count": null,
      "outputs": []
    },
    {
      "cell_type": "code",
      "source": [
        "pip install nltk"
      ],
      "metadata": {
        "colab": {
          "base_uri": "https://localhost:8080/"
        },
        "id": "qVBz7Od4hJYa",
        "outputId": "a48c38ed-63dc-4f5c-dd8b-4e7ad935497b"
      },
      "execution_count": null,
      "outputs": [
        {
          "output_type": "stream",
          "name": "stdout",
          "text": [
            "Requirement already satisfied: nltk in /usr/local/lib/python3.10/dist-packages (3.8.1)\n",
            "Requirement already satisfied: click in /usr/local/lib/python3.10/dist-packages (from nltk) (8.1.3)\n",
            "Requirement already satisfied: joblib in /usr/local/lib/python3.10/dist-packages (from nltk) (1.2.0)\n",
            "Requirement already satisfied: regex>=2021.8.3 in /usr/local/lib/python3.10/dist-packages (from nltk) (2022.10.31)\n",
            "Requirement already satisfied: tqdm in /usr/local/lib/python3.10/dist-packages (from nltk) (4.65.0)\n"
          ]
        }
      ]
    },
    {
      "cell_type": "code",
      "source": [
        "from nltk.tokenize import word_tokenize\n",
        "import nltk\n",
        "nltk.download('punkt')"
      ],
      "metadata": {
        "colab": {
          "base_uri": "https://localhost:8080/"
        },
        "id": "3m_kdUvMhNG8",
        "outputId": "fc12f2ef-0ce8-4ac6-f771-bb7a0db242c0"
      },
      "execution_count": null,
      "outputs": [
        {
          "output_type": "stream",
          "name": "stderr",
          "text": [
            "[nltk_data] Downloading package punkt to /root/nltk_data...\n",
            "[nltk_data]   Unzipping tokenizers/punkt.zip.\n"
          ]
        },
        {
          "output_type": "execute_result",
          "data": {
            "text/plain": [
              "True"
            ]
          },
          "metadata": {},
          "execution_count": 65
        }
      ]
    },
    {
      "cell_type": "code",
      "source": [
        "import numpy as np\n",
        "from keras.models import Sequential\n",
        "from keras.layers import LSTM, Dense, Embedding\n",
        "from keras.preprocessing.text import Tokenizer\n",
        "from tensorflow.keras.preprocessing.sequence import pad_sequences\n",
        "\n",
        "tokenizer=Tokenizer()\n",
        "\n",
        "# Dữ liệu mới cần phân loại\n",
        "new_texts = \"Hàng đẹp giao hàng siêu nhanh. Mua lần 2 mới đc. Lần đầu thì hết hàng.\"\n",
        "data=word_tokenize(new_texts)\n",
        "new_data=[0]*120\n",
        "for i in range(len(data)):\n",
        "  if data[i] in words:\n",
        "    new_data[i]=words.index(data[i])\n",
        "  else:\n",
        "    new_data[i]=0\n",
        "for i in range(len(data),len(new_data)):\n",
        "  new_data[i]=11323\n",
        "new_data_test=np.array([new_data])\n",
        "\n",
        "\n",
        "# Dự đoán lớp của dữ liệu mới\n",
        "p = model.predict(new_data_test)\n",
        "p = np.argmax(p, axis=-1)\n",
        "\n",
        "print(\"{:15}\\t {}\\n\".format(\"Word\", \"Pred\"))\n",
        "x=[x for x in range(0,len(data))]\n",
        "print(x)\n",
        "print(\"-\" *30)\n",
        "for w,  pred in zip(x, p[0]):\n",
        "    print(\"{}\\t{}\".format(data[w], tags[pred]))\n",
        "    print(w)"
      ],
      "metadata": {
        "colab": {
          "base_uri": "https://localhost:8080/"
        },
        "id": "SKjDEYAuf8cv",
        "outputId": "aa9e7edc-3db4-4809-f8d0-21b3a3d135df"
      },
      "execution_count": null,
      "outputs": [
        {
          "output_type": "stream",
          "name": "stdout",
          "text": [
            "1/1 [==============================] - 0s 157ms/step\n",
            "Word           \t Pred\n",
            "\n",
            "[0, 1, 2, 3, 4, 5, 6, 7, 8, 9, 10, 11, 12, 13, 14, 15, 16, 17, 18]\n",
            "------------------------------\n",
            "Hàng\tB-SER&ACC\n",
            "0\n",
            "đẹp\tI-DESIGN\n",
            "1\n",
            "giao\tI-SER&ACC\n",
            "2\n",
            "hàng\tI-SER&ACC\n",
            "3\n",
            "siêu\tI-SER&ACC\n",
            "4\n",
            "nhanh\tI-SER&ACC\n",
            "5\n",
            ".\tI-SER&ACC\n",
            "6\n",
            "Mua\tO\n",
            "7\n",
            "lần\tI-SER&ACC\n",
            "8\n",
            "2\tO\n",
            "9\n",
            "mới\tO\n",
            "10\n",
            "đc\tO\n",
            "11\n",
            ".\tO\n",
            "12\n",
            "Lần\tO\n",
            "13\n",
            "đầu\tO\n",
            "14\n",
            "thì\tO\n",
            "15\n",
            "hết\tO\n",
            "16\n",
            "hàng\tI-SER&ACC\n",
            "17\n",
            ".\tO\n",
            "18\n"
          ]
        }
      ]
    }
  ],
  "metadata": {
    "accelerator": "GPU",
    "colab": {
      "collapsed_sections": [
        "i_4kHUK_YS4q"
      ],
      "provenance": []
    },
    "gpuClass": "standard",
    "kernelspec": {
      "display_name": "base",
      "language": "python",
      "name": "python3"
    },
    "language_info": {
      "name": "python",
      "version": "3.9.12 (main, Apr  4 2022, 05:22:27) [MSC v.1916 64 bit (AMD64)]"
    },
    "vscode": {
      "interpreter": {
        "hash": "610a6f344c2137faf927ea819c63f6cee33a2c04455044b28099f39fe9722347"
      }
    }
  },
  "nbformat": 4,
  "nbformat_minor": 0
}