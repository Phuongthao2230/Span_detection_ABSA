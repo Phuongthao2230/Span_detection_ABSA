{
  "cells": [
    {
      "cell_type": "markdown",
      "metadata": {
        "id": "UldwKEIcb7X4"
      },
      "source": [
        "# INSTALL AND IMPORT NECESSARY MODULE, LIBRARY"
      ]
    },
    {
      "cell_type": "code",
      "execution_count": null,
      "metadata": {
        "colab": {
          "base_uri": "https://localhost:8080/"
        },
        "id": "KXgay5veaQjZ",
        "outputId": "e46ea86f-7db4-4d9d-babe-c5d5bc4386e0"
      },
      "outputs": [
        {
          "output_type": "stream",
          "name": "stdout",
          "text": [
            "Drive already mounted at /content/drive; to attempt to forcibly remount, call drive.mount(\"/content/drive\", force_remount=True).\n"
          ]
        }
      ],
      "source": [
        "from google.colab import drive\n",
        "drive.mount('/content/drive')"
      ]
    },
    {
      "cell_type": "code",
      "execution_count": null,
      "metadata": {
        "id": "0e9yOjUqae77"
      },
      "outputs": [],
      "source": [
        "!pip install simpletransformers"
      ]
    },
    {
      "cell_type": "code",
      "execution_count": null,
      "metadata": {
        "id": "6jO7JoA0ahSo"
      },
      "outputs": [],
      "source": [
        "import logging\n",
        "import pandas as pd\n",
        "from simpletransformers.ner import NERModel, NERArgs\n",
        "import numpy as np # linear algebra\n",
        "import pandas as pd # data processing, CSV file I/O (e.g. pd.read_csv)\n",
        "import matplotlib.pyplot as plt"
      ]
    },
    {
      "cell_type": "markdown",
      "metadata": {
        "id": "jBV3ykR7b54o"
      },
      "source": [
        "# READ DATA"
      ]
    },
    {
      "cell_type": "code",
      "execution_count": null,
      "metadata": {
        "id": "8o7urnu0aqt4"
      },
      "outputs": [],
      "source": [
        "train_data = pd.read_csv(\"/content/drive/MyDrive/NHANDANG/DATA/FULL/full_TRAIN.csv\")\n",
        "eval_data = pd.read_csv(\"/content/drive/MyDrive/NHANDANG/DATA/FULL/full_DEV.csv\")\n",
        "test_data = pd.read_csv(\"/content/drive/MyDrive/NHANDANG/DATA/FULL/full_TEST.csv\")"
      ]
    },
    {
      "cell_type": "markdown",
      "metadata": {
        "id": "9EQ1byGBb3ag"
      },
      "source": [
        "# PRECESSING FOR FINE-TUNE"
      ]
    },
    {
      "cell_type": "code",
      "execution_count": null,
      "metadata": {
        "id": "tQRmpKY2IcYN"
      },
      "outputs": [],
      "source": [
        "train_data['words'] = train_data['words'].astype(str)\n",
        "train_data['labels'] = train_data['labels'].astype(str)\n",
        "eval_data['words'] = eval_data['words'].astype(str)\n",
        "eval_data['labels'] = eval_data['labels'].astype(str)"
      ]
    },
    {
      "cell_type": "code",
      "execution_count": null,
      "metadata": {
        "colab": {
          "base_uri": "https://localhost:8080/"
        },
        "id": "808428YSEOs_",
        "outputId": "29242b26-9c1f-49ac-be20-53648b1b41e0"
      },
      "outputs": [
        {
          "output_type": "stream",
          "name": "stdout",
          "text": [
            "<class 'pandas.core.frame.DataFrame'>\n",
            "RangeIndex: 307476 entries, 0 to 307475\n",
            "Data columns (total 3 columns):\n",
            " #   Column       Non-Null Count   Dtype \n",
            "---  ------       --------------   ----- \n",
            " 0   sentence_id  307476 non-null  int64 \n",
            " 1   words        307476 non-null  object\n",
            " 2   labels       307476 non-null  object\n",
            "dtypes: int64(1), object(2)\n",
            "memory usage: 7.0+ MB\n"
          ]
        }
      ],
      "source": [
        "train_data.info()"
      ]
    },
    {
      "cell_type": "code",
      "execution_count": null,
      "metadata": {
        "id": "oi8u-8W7ERji"
      },
      "outputs": [],
      "source": [
        "train_data=train_data.dropna()"
      ]
    },
    {
      "cell_type": "code",
      "execution_count": null,
      "metadata": {
        "colab": {
          "base_uri": "https://localhost:8080/",
          "height": 206
        },
        "id": "gjP_O9I-BbNX",
        "outputId": "bff61e2a-35bb-47a5-81da-e2927bca54d5"
      },
      "outputs": [
        {
          "output_type": "execute_result",
          "data": {
            "text/plain": [
              "   sentence_id words              labels\n",
              "0            0   Pin  B-BATTERY-POSITIVE\n",
              "1            0   Sài  I-BATTERY-POSITIVE\n",
              "2            0   tầm  I-BATTERY-POSITIVE\n",
              "3            0   50h  I-BATTERY-POSITIVE\n",
              "4            0   cho  I-BATTERY-POSITIVE"
            ],
            "text/html": [
              "\n",
              "  <div id=\"df-4554993e-4577-41b1-b569-b5b1a439a28b\">\n",
              "    <div class=\"colab-df-container\">\n",
              "      <div>\n",
              "<style scoped>\n",
              "    .dataframe tbody tr th:only-of-type {\n",
              "        vertical-align: middle;\n",
              "    }\n",
              "\n",
              "    .dataframe tbody tr th {\n",
              "        vertical-align: top;\n",
              "    }\n",
              "\n",
              "    .dataframe thead th {\n",
              "        text-align: right;\n",
              "    }\n",
              "</style>\n",
              "<table border=\"1\" class=\"dataframe\">\n",
              "  <thead>\n",
              "    <tr style=\"text-align: right;\">\n",
              "      <th></th>\n",
              "      <th>sentence_id</th>\n",
              "      <th>words</th>\n",
              "      <th>labels</th>\n",
              "    </tr>\n",
              "  </thead>\n",
              "  <tbody>\n",
              "    <tr>\n",
              "      <th>0</th>\n",
              "      <td>0</td>\n",
              "      <td>Pin</td>\n",
              "      <td>B-BATTERY-POSITIVE</td>\n",
              "    </tr>\n",
              "    <tr>\n",
              "      <th>1</th>\n",
              "      <td>0</td>\n",
              "      <td>Sài</td>\n",
              "      <td>I-BATTERY-POSITIVE</td>\n",
              "    </tr>\n",
              "    <tr>\n",
              "      <th>2</th>\n",
              "      <td>0</td>\n",
              "      <td>tầm</td>\n",
              "      <td>I-BATTERY-POSITIVE</td>\n",
              "    </tr>\n",
              "    <tr>\n",
              "      <th>3</th>\n",
              "      <td>0</td>\n",
              "      <td>50h</td>\n",
              "      <td>I-BATTERY-POSITIVE</td>\n",
              "    </tr>\n",
              "    <tr>\n",
              "      <th>4</th>\n",
              "      <td>0</td>\n",
              "      <td>cho</td>\n",
              "      <td>I-BATTERY-POSITIVE</td>\n",
              "    </tr>\n",
              "  </tbody>\n",
              "</table>\n",
              "</div>\n",
              "      <button class=\"colab-df-convert\" onclick=\"convertToInteractive('df-4554993e-4577-41b1-b569-b5b1a439a28b')\"\n",
              "              title=\"Convert this dataframe to an interactive table.\"\n",
              "              style=\"display:none;\">\n",
              "        \n",
              "  <svg xmlns=\"http://www.w3.org/2000/svg\" height=\"24px\"viewBox=\"0 0 24 24\"\n",
              "       width=\"24px\">\n",
              "    <path d=\"M0 0h24v24H0V0z\" fill=\"none\"/>\n",
              "    <path d=\"M18.56 5.44l.94 2.06.94-2.06 2.06-.94-2.06-.94-.94-2.06-.94 2.06-2.06.94zm-11 1L8.5 8.5l.94-2.06 2.06-.94-2.06-.94L8.5 2.5l-.94 2.06-2.06.94zm10 10l.94 2.06.94-2.06 2.06-.94-2.06-.94-.94-2.06-.94 2.06-2.06.94z\"/><path d=\"M17.41 7.96l-1.37-1.37c-.4-.4-.92-.59-1.43-.59-.52 0-1.04.2-1.43.59L10.3 9.45l-7.72 7.72c-.78.78-.78 2.05 0 2.83L4 21.41c.39.39.9.59 1.41.59.51 0 1.02-.2 1.41-.59l7.78-7.78 2.81-2.81c.8-.78.8-2.07 0-2.86zM5.41 20L4 18.59l7.72-7.72 1.47 1.35L5.41 20z\"/>\n",
              "  </svg>\n",
              "      </button>\n",
              "      \n",
              "  <style>\n",
              "    .colab-df-container {\n",
              "      display:flex;\n",
              "      flex-wrap:wrap;\n",
              "      gap: 12px;\n",
              "    }\n",
              "\n",
              "    .colab-df-convert {\n",
              "      background-color: #E8F0FE;\n",
              "      border: none;\n",
              "      border-radius: 50%;\n",
              "      cursor: pointer;\n",
              "      display: none;\n",
              "      fill: #1967D2;\n",
              "      height: 32px;\n",
              "      padding: 0 0 0 0;\n",
              "      width: 32px;\n",
              "    }\n",
              "\n",
              "    .colab-df-convert:hover {\n",
              "      background-color: #E2EBFA;\n",
              "      box-shadow: 0px 1px 2px rgba(60, 64, 67, 0.3), 0px 1px 3px 1px rgba(60, 64, 67, 0.15);\n",
              "      fill: #174EA6;\n",
              "    }\n",
              "\n",
              "    [theme=dark] .colab-df-convert {\n",
              "      background-color: #3B4455;\n",
              "      fill: #D2E3FC;\n",
              "    }\n",
              "\n",
              "    [theme=dark] .colab-df-convert:hover {\n",
              "      background-color: #434B5C;\n",
              "      box-shadow: 0px 1px 3px 1px rgba(0, 0, 0, 0.15);\n",
              "      filter: drop-shadow(0px 1px 2px rgba(0, 0, 0, 0.3));\n",
              "      fill: #FFFFFF;\n",
              "    }\n",
              "  </style>\n",
              "\n",
              "      <script>\n",
              "        const buttonEl =\n",
              "          document.querySelector('#df-4554993e-4577-41b1-b569-b5b1a439a28b button.colab-df-convert');\n",
              "        buttonEl.style.display =\n",
              "          google.colab.kernel.accessAllowed ? 'block' : 'none';\n",
              "\n",
              "        async function convertToInteractive(key) {\n",
              "          const element = document.querySelector('#df-4554993e-4577-41b1-b569-b5b1a439a28b');\n",
              "          const dataTable =\n",
              "            await google.colab.kernel.invokeFunction('convertToInteractive',\n",
              "                                                     [key], {});\n",
              "          if (!dataTable) return;\n",
              "\n",
              "          const docLinkHtml = 'Like what you see? Visit the ' +\n",
              "            '<a target=\"_blank\" href=https://colab.research.google.com/notebooks/data_table.ipynb>data table notebook</a>'\n",
              "            + ' to learn more about interactive tables.';\n",
              "          element.innerHTML = '';\n",
              "          dataTable['output_type'] = 'display_data';\n",
              "          await google.colab.output.renderOutput(dataTable, element);\n",
              "          const docLink = document.createElement('div');\n",
              "          docLink.innerHTML = docLinkHtml;\n",
              "          element.appendChild(docLink);\n",
              "        }\n",
              "      </script>\n",
              "    </div>\n",
              "  </div>\n",
              "  "
            ]
          },
          "metadata": {},
          "execution_count": 9
        }
      ],
      "source": [
        "train_data.head()"
      ]
    },
    {
      "cell_type": "code",
      "execution_count": null,
      "metadata": {
        "colab": {
          "base_uri": "https://localhost:8080/"
        },
        "id": "3sYKZSj6bTl3",
        "outputId": "0dc1cc46-25a1-42ef-eca4-48c9527af661"
      },
      "outputs": [
        {
          "output_type": "stream",
          "name": "stdout",
          "text": [
            "Các nhãn khác nhau giữa tập huấn luyện và tập đánh giá:\n",
            "set()\n"
          ]
        }
      ],
      "source": [
        "unique_train = set(train_data[\"labels\"])\n",
        "unique_eval = set(eval_data[\"labels\"])\n",
        "\n",
        "different_labels = unique_train.difference(unique_eval)\n",
        "print(\"Các nhãn khác nhau giữa tập huấn luyện và tập đánh giá:\")\n",
        "print(different_labels)"
      ]
    },
    {
      "cell_type": "code",
      "execution_count": null,
      "metadata": {
        "colab": {
          "base_uri": "https://localhost:8080/"
        },
        "id": "ATmDFs1SbdcX",
        "outputId": "cf836cad-be85-4ff8-96d0-fcea4aff8294"
      },
      "outputs": [
        {
          "output_type": "execute_result",
          "data": {
            "text/plain": [
              "61"
            ]
          },
          "metadata": {},
          "execution_count": 11
        }
      ],
      "source": [
        "len(set(eval_data[\"labels\"]))"
      ]
    },
    {
      "cell_type": "code",
      "execution_count": null,
      "metadata": {
        "colab": {
          "base_uri": "https://localhost:8080/"
        },
        "id": "8808iDuXbh0Q",
        "outputId": "92738e4f-f9f2-4ed2-87e0-1c8eaf85001a"
      },
      "outputs": [
        {
          "output_type": "execute_result",
          "data": {
            "text/plain": [
              "61"
            ]
          },
          "metadata": {},
          "execution_count": 12
        }
      ],
      "source": [
        "len(set(train_data[\"labels\"]))"
      ]
    },
    {
      "cell_type": "code",
      "execution_count": null,
      "metadata": {
        "colab": {
          "base_uri": "https://localhost:8080/"
        },
        "id": "jjq64DozcBwo",
        "outputId": "52ef8ed8-e4d0-461c-a4c3-c2b3c6921f03"
      },
      "outputs": [
        {
          "output_type": "execute_result",
          "data": {
            "text/plain": [
              "O                         107819\n",
              "I-PERFORMANCE-NEGATIVE     20800\n",
              "I-GENERAL-POSITIVE         19711\n",
              "I-FEATURES-NEGATIVE        18643\n",
              "I-PERFORMANCE-POSITIVE     16412\n",
              "                           ...  \n",
              "B-DESIGN-NEUTRAL              46\n",
              "B-SCREEN-NEUTRAL              39\n",
              "B-SER&ACC-NEUTRAL             33\n",
              "B-STORAGE-NEGATIVE            17\n",
              "B-STORAGE-NEUTRAL             17\n",
              "Name: labels, Length: 61, dtype: int64"
            ]
          },
          "metadata": {},
          "execution_count": 13
        }
      ],
      "source": [
        "label_counts = train_data['labels'].value_counts()\n",
        "label_counts"
      ]
    },
    {
      "cell_type": "code",
      "execution_count": null,
      "metadata": {
        "colab": {
          "base_uri": "https://localhost:8080/"
        },
        "id": "AbUlpKR0cScI",
        "outputId": "ac1a04a9-dfc3-4df5-c3ca-8e240b512f09"
      },
      "outputs": [
        {
          "output_type": "execute_result",
          "data": {
            "text/plain": [
              "O                         30929\n",
              "I-GENERAL-POSITIVE         6112\n",
              "I-FEATURES-NEGATIVE        6086\n",
              "I-PERFORMANCE-NEGATIVE     5803\n",
              "I-PERFORMANCE-POSITIVE     4819\n",
              "                          ...  \n",
              "B-STORAGE-POSITIVE           12\n",
              "B-STORAGE-NEGATIVE           12\n",
              "B-SCREEN-NEUTRAL              9\n",
              "B-STORAGE-NEUTRAL             7\n",
              "B-SER&ACC-NEUTRAL             3\n",
              "Name: labels, Length: 61, dtype: int64"
            ]
          },
          "metadata": {},
          "execution_count": 14
        }
      ],
      "source": [
        "label_counts = eval_data['labels'].value_counts()\n",
        "label_counts"
      ]
    },
    {
      "cell_type": "code",
      "execution_count": null,
      "metadata": {
        "id": "hIOkzkvWIp9A"
      },
      "outputs": [],
      "source": []
    },
    {
      "cell_type": "markdown",
      "metadata": {
        "id": "pQt7FJUvce7R"
      },
      "source": [
        "# MODEL"
      ]
    },
    {
      "cell_type": "markdown",
      "metadata": {
        "id": "jKvuxDv7fB0g"
      },
      "source": [
        "## Xlm - roberta"
      ]
    },
    {
      "cell_type": "markdown",
      "source": [
        "**1e-4**"
      ],
      "metadata": {
        "id": "EL1JhUsjfUX-"
      }
    },
    {
      "cell_type": "code",
      "execution_count": null,
      "metadata": {
        "id": "QXImZvizeUoB"
      },
      "outputs": [],
      "source": [
        "# Get unique labels from the label column in train_df\n",
        "label_list = train_data[\"labels\"].unique().tolist()\n",
        "\n",
        "# Configure the model\n",
        "model_args = NERArgs()\n",
        "model_args.evaluate_during_training = True\n",
        "model_args.num_train_epochs = 40\n",
        "model_args.learning_rate = 1e-4\n",
        "model_args.best_model_dir=\"/content/drive/MyDrive/full_xml/1e-4\"\n",
        "model_args.overwrite_output_dir =True\n",
        "model_args.train_batch_size = 32\n",
        "model_args.eval_batch_size = 32\n",
        "model_args.use_cached_eval_features = False\n",
        "model_args.use_multiprocessing = False\n",
        "model_args.reprocess_input_data = True\n",
        "model_args.use_early_stopping = True\n",
        "model_args.early_stopping_metric = \"eval_loss\"\n",
        "model_args.early_stopping_metric_minimize = True\n",
        "model_args.early_stopping_patience = 3\n",
        "model_args.early_stopping_consider_epochs=True\n",
        "model_args.evaluate_during_training=True\n",
        "# Initialize the model\n",
        "model = NERModel(\n",
        "    \"xlmroberta\",\n",
        "    \"xlm-roberta-base\",\n",
        "    labels=label_list,\n",
        "    args=model_args\n",
        ")\n",
        "\n",
        "# Train the model\n",
        "# Train the model\n",
        "model.train_model(train_data, eval_data=eval_data)\n",
        "\n",
        "\n",
        "\n",
        "result_01, model_outputs, preds_list = model.eval_model(test_data)"
      ]
    },
    {
      "cell_type": "code",
      "source": [
        "result_01"
      ],
      "metadata": {
        "id": "2cK23EJtusbx"
      },
      "execution_count": null,
      "outputs": []
    }
  ],
  "metadata": {
    "accelerator": "GPU",
    "colab": {
      "provenance": []
    },
    "kernelspec": {
      "display_name": "Python 3",
      "name": "python3"
    },
    "language_info": {
      "name": "python"
    }
  },
  "nbformat": 4,
  "nbformat_minor": 0
}